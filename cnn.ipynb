{
  "nbformat": 4,
  "nbformat_minor": 0,
  "metadata": {
    "colab": {
      "name": "cnn.ipynb",
      "provenance": []
    },
    "kernelspec": {
      "name": "python3",
      "display_name": "Python 3"
    },
    "accelerator": "TPU"
  },
  "cells": [
    {
      "cell_type": "code",
      "metadata": {
        "id": "iVlNIR54_5YL"
      },
      "source": [
        "from keras.utils import np_utils\n",
        "from keras.models import Sequential\n",
        "from keras.layers.convolutional import MaxPooling2D\n",
        "from keras.layers import Activation, Conv2D, Flatten, Dense,Dropout\n",
        "from sklearn.model_selection import train_test_split\n",
        "from keras.optimizers import SGD, Adadelta, Adagrad, Adam, Adamax, RMSprop, Nadam\n",
        "from PIL import Image\n",
        "import numpy as np\n",
        "import glob\n",
        "import matplotlib.pyplot as plt\n",
        "import time\n",
        "import os\n",
        "from keras.callbacks import EarlyStopping, TensorBoard, ModelCheckpoint"
      ],
      "execution_count": null,
      "outputs": []
    },
    {
      "cell_type": "code",
      "metadata": {
        "id": "cZ_nRLz2AfAd",
        "colab": {
          "base_uri": "https://localhost:8080/",
          "height": 136
        },
        "outputId": "cfc72a8b-b72e-4a4c-c28a-f08b32ae3785"
      },
      "source": [
        "os.chdir('..')\n",
        "!ls"
      ],
      "execution_count": null,
      "outputs": [
        {
          "output_type": "stream",
          "text": [
            "bin\t\t\t\t\t   etc\t  opt\t sys\n",
            "boot\t\t\t\t\t   home   proc\t tensorflow-2.1.0\n",
            "content\t\t\t\t\t   lib\t  root\t tmp\n",
            "datalab\t\t\t\t\t   lib32  run\t tools\n",
            "dev\t\t\t\t\t   lib64  sbin\t usr\n",
            "dlib-19.18.0-cp27-cp27mu-linux_x86_64.whl  media  srv\t var\n",
            "dlib-19.18.0-cp36-cp36m-linux_x86_64.whl   mnt\t  swift\n"
          ],
          "name": "stdout"
        }
      ]
    },
    {
      "cell_type": "code",
      "metadata": {
        "id": "3mbe2DKTAHYv"
      },
      "source": [
        "#フォルダ一覧の読み込み\n",
        "folder = os.listdir(\"dot_rotated\")\n",
        "folder.sort()\n",
        "# folder.pop(0)\n",
        "width,height = 58,52\n",
        "dense_size  = len(folder)\n",
        "#画像データとラベル\n",
        "X = []\n",
        "Y = []"
      ],
      "execution_count": null,
      "outputs": []
    },
    {
      "cell_type": "code",
      "metadata": {
        "id": "4ksy0uyGAQwA",
        "colab": {
          "base_uri": "https://localhost:8080/",
          "height": 867
        },
        "outputId": "21107f05-e8be-4976-bf0a-18866f253da9"
      },
      "source": [
        "for index, name in enumerate(folder[:50]):\n",
        "    dir = \"./dot_rotated/\" + name\n",
        "    files = glob.glob(dir + \"/*.png\")\n",
        "    print(name)\n",
        "    for i, file in enumerate(files):\n",
        "        image = Image.open(file)\n",
        "        image = image.convert(\"RGB\")\n",
        "        data = np.asarray(image)\n",
        "        X.append(data)\n",
        "        Y.append(index)"
      ],
      "execution_count": null,
      "outputs": [
        {
          "output_type": "stream",
          "text": [
            "001\n",
            "002\n",
            "003\n",
            "003m1\n",
            "004\n",
            "005\n",
            "006\n",
            "006m1\n",
            "006m2\n",
            "007\n",
            "008\n",
            "009\n",
            "009m1\n",
            "010\n",
            "011\n",
            "012\n",
            "013\n",
            "014\n",
            "015\n",
            "015m1\n",
            "016\n",
            "017\n",
            "018\n",
            "018m1\n",
            "019\n",
            "019a\n",
            "020\n",
            "020a\n",
            "021\n",
            "022\n",
            "023\n",
            "024\n",
            "025\n",
            "026\n",
            "026a\n",
            "027\n",
            "027a\n",
            "028\n",
            "028a\n",
            "029\n",
            "030\n",
            "031\n",
            "032\n",
            "033\n",
            "034\n",
            "035\n",
            "036\n",
            "037\n",
            "037a\n",
            "038\n"
          ],
          "name": "stdout"
        }
      ]
    },
    {
      "cell_type": "code",
      "metadata": {
        "id": "kHHXs4MqAmli"
      },
      "source": [
        "X = np.array(X)\n",
        "Y = np.array(Y)\n",
        "X = X.astype('float32')\n",
        "X = X / 255.0"
      ],
      "execution_count": null,
      "outputs": []
    },
    {
      "cell_type": "code",
      "metadata": {
        "id": "bR4LRR2KAoNb"
      },
      "source": [
        "Y = np_utils.to_categorical(Y, dense_size)\n",
        "X_train, X_test, y_train, y_test = train_test_split(X, Y, test_size=0.10)"
      ],
      "execution_count": null,
      "outputs": []
    },
    {
      "cell_type": "code",
      "metadata": {
        "id": "vaa3Xa8_Aqr2",
        "colab": {
          "base_uri": "https://localhost:8080/",
          "height": 765
        },
        "outputId": "f2cf47d3-bef0-4f32-9161-9602eac97040"
      },
      "source": [
        "#CNNの層\n",
        "model = Sequential()\n",
        "model.add(Conv2D(32, (3, 3), padding='same',input_shape=X_train.shape[1:]))\n",
        "model.add(Activation('relu'))\n",
        "model.add(Conv2D(32, (3, 3)))\n",
        "model.add(Activation('relu'))\n",
        "model.add(MaxPooling2D(pool_size=(2, 2)))\n",
        "model.add(Dropout(0.25))\n",
        "\n",
        "model.add(Conv2D(64, (3, 3), padding='same'))\n",
        "model.add(Activation('relu'))\n",
        "model.add(Conv2D(64, (3, 3)))\n",
        "model.add(Activation('relu'))\n",
        "model.add(MaxPooling2D(pool_size=(2, 2)))\n",
        "model.add(Dropout(0.25))\n",
        "\n",
        "model.add(Flatten())\n",
        "model.add(Dense(512))\n",
        "model.add(Activation('relu'))\n",
        "model.add(Dropout(0.5))\n",
        "model.add(Dense(dense_size))\n",
        "model.add(Activation('softmax'))\n",
        "\n",
        "model.summary()"
      ],
      "execution_count": null,
      "outputs": [
        {
          "output_type": "stream",
          "text": [
            "Model: \"sequential_2\"\n",
            "_________________________________________________________________\n",
            "Layer (type)                 Output Shape              Param #   \n",
            "=================================================================\n",
            "conv2d_5 (Conv2D)            (None, 52, 58, 32)        896       \n",
            "_________________________________________________________________\n",
            "activation_7 (Activation)    (None, 52, 58, 32)        0         \n",
            "_________________________________________________________________\n",
            "conv2d_6 (Conv2D)            (None, 50, 56, 32)        9248      \n",
            "_________________________________________________________________\n",
            "activation_8 (Activation)    (None, 50, 56, 32)        0         \n",
            "_________________________________________________________________\n",
            "max_pooling2d_3 (MaxPooling2 (None, 25, 28, 32)        0         \n",
            "_________________________________________________________________\n",
            "dropout_4 (Dropout)          (None, 25, 28, 32)        0         \n",
            "_________________________________________________________________\n",
            "conv2d_7 (Conv2D)            (None, 25, 28, 64)        18496     \n",
            "_________________________________________________________________\n",
            "activation_9 (Activation)    (None, 25, 28, 64)        0         \n",
            "_________________________________________________________________\n",
            "conv2d_8 (Conv2D)            (None, 23, 26, 64)        36928     \n",
            "_________________________________________________________________\n",
            "activation_10 (Activation)   (None, 23, 26, 64)        0         \n",
            "_________________________________________________________________\n",
            "max_pooling2d_4 (MaxPooling2 (None, 11, 13, 64)        0         \n",
            "_________________________________________________________________\n",
            "dropout_5 (Dropout)          (None, 11, 13, 64)        0         \n",
            "_________________________________________________________________\n",
            "flatten_2 (Flatten)          (None, 9152)              0         \n",
            "_________________________________________________________________\n",
            "dense_3 (Dense)              (None, 512)               4686336   \n",
            "_________________________________________________________________\n",
            "activation_11 (Activation)   (None, 512)               0         \n",
            "_________________________________________________________________\n",
            "dropout_6 (Dropout)          (None, 512)               0         \n",
            "_________________________________________________________________\n",
            "dense_4 (Dense)              (None, 1111)              569943    \n",
            "_________________________________________________________________\n",
            "activation_12 (Activation)   (None, 1111)              0         \n",
            "=================================================================\n",
            "Total params: 5,321,847\n",
            "Trainable params: 5,321,847\n",
            "Non-trainable params: 0\n",
            "_________________________________________________________________\n"
          ],
          "name": "stdout"
        }
      ]
    },
    {
      "cell_type": "code",
      "metadata": {
        "id": "10Atfq25UfQh",
        "colab": {
          "base_uri": "https://localhost:8080/",
          "height": 615
        },
        "outputId": "21e6e387-2c82-414a-ea6d-cded87b325b6"
      },
      "source": [
        "#CNNの学習器の作成\n",
        "optimizers =\"Adadelta\"\n",
        "results = {}\n",
        "fpath = './tensorlog/weights.{epoch:02d}-{loss:.2f}-{val_loss:.2f}.hdf5'\n",
        "cp_cb = ModelCheckpoint(filepath = fpath, monitor='val_loss', verbose=1, save_best_only=True, mode='auto')\n",
        "es_cb = EarlyStopping(monitor='val_loss', patience=2, verbose=1, mode='auto')\n",
        "tb_cb = TensorBoard(log_dir=\"./tensorlog\", histogram_freq=1)\n",
        "epochs = 200\n",
        "model.compile(loss='categorical_crossentropy', optimizer=optimizers, metrics=['accuracy'])\n",
        "results= model.fit(X_train, y_train, validation_split=0.2, epochs=epochs, callbacks=[cp_cb, es_cb, tb_cb])"
      ],
      "execution_count": null,
      "outputs": [
        {
          "output_type": "stream",
          "text": [
            "Train on 1116 samples, validate on 279 samples\n",
            "WARNING:tensorflow:From /usr/local/lib/python3.6/dist-packages/keras/callbacks.py:1068: The name tf.summary.histogram is deprecated. Please use tf.compat.v1.summary.histogram instead.\n",
            "\n",
            "WARNING:tensorflow:From /usr/local/lib/python3.6/dist-packages/keras/callbacks.py:1122: The name tf.summary.merge_all is deprecated. Please use tf.compat.v1.summary.merge_all instead.\n",
            "\n",
            "WARNING:tensorflow:From /usr/local/lib/python3.6/dist-packages/keras/callbacks.py:1125: The name tf.summary.FileWriter is deprecated. Please use tf.compat.v1.summary.FileWriter instead.\n",
            "\n",
            "Epoch 1/200\n",
            "1116/1116 [==============================] - 21s 19ms/step - loss: 0.0010 - acc: 0.9991 - val_loss: 2.2069e-07 - val_acc: 1.0000\n",
            "\n",
            "Epoch 00001: val_loss improved from inf to 0.00000, saving model to ./tensorlog/weights.01-0.00-0.00.hdf5\n",
            "WARNING:tensorflow:From /usr/local/lib/python3.6/dist-packages/keras/callbacks.py:1265: The name tf.Summary is deprecated. Please use tf.compat.v1.Summary instead.\n",
            "\n",
            "Epoch 2/200\n",
            "1116/1116 [==============================] - 19s 17ms/step - loss: 0.0027 - acc: 0.9991 - val_loss: 1.7433e-07 - val_acc: 1.0000\n",
            "\n",
            "Epoch 00002: val_loss improved from 0.00000 to 0.00000, saving model to ./tensorlog/weights.02-0.00-0.00.hdf5\n",
            "Epoch 3/200\n",
            "1116/1116 [==============================] - 19s 17ms/step - loss: 0.0018 - acc: 0.9982 - val_loss: 2.7038e-06 - val_acc: 1.0000\n",
            "\n",
            "Epoch 00003: val_loss did not improve from 0.00000\n",
            "Epoch 4/200\n",
            "1116/1116 [==============================] - 19s 17ms/step - loss: 8.4756e-04 - acc: 1.0000 - val_loss: 1.4057e-07 - val_acc: 1.0000\n",
            "\n",
            "Epoch 00004: val_loss improved from 0.00000 to 0.00000, saving model to ./tensorlog/weights.04-0.00-0.00.hdf5\n",
            "Epoch 5/200\n",
            "1116/1116 [==============================] - 19s 17ms/step - loss: 2.5898e-04 - acc: 1.0000 - val_loss: 2.6363e-07 - val_acc: 1.0000\n",
            "\n",
            "Epoch 00005: val_loss did not improve from 0.00000\n",
            "Epoch 6/200\n",
            "1116/1116 [==============================] - 19s 17ms/step - loss: 0.0043 - acc: 0.9991 - val_loss: 1.4207e-07 - val_acc: 1.0000\n",
            "\n",
            "Epoch 00006: val_loss did not improve from 0.00000\n",
            "Epoch 00006: early stopping\n"
          ],
          "name": "stdout"
        }
      ]
    },
    {
      "cell_type": "code",
      "metadata": {
        "id": "HrtoxaK1lERX",
        "colab": {
          "base_uri": "https://localhost:8080/",
          "height": 51
        },
        "outputId": "694bc150-4e3e-4dea-cd3f-76aff18cc445"
      },
      "source": [
        "# 推定\n",
        "score = model.evaluate(X_test, y_test, batch_size=32, verbose=0)\n",
        "print('validation loss:{0[0]}\\nvalidation accuracy:{0[1]}'.format(score))"
      ],
      "execution_count": null,
      "outputs": [
        {
          "output_type": "stream",
          "text": [
            "validation loss:0.10398786529421188\n",
            "validation accuracy:0.9935483909422351\n"
          ],
          "name": "stdout"
        }
      ]
    },
    {
      "cell_type": "code",
      "metadata": {
        "id": "QFTC4FQQUjVa"
      },
      "source": [
        "model_json_str = model.to_json()\n",
        "open('pokeAI_mlp_model.json', 'w').write(model_json_str)\n",
        "model.save_weights('pokeAI_mlp_weights.h5');"
      ],
      "execution_count": null,
      "outputs": []
    },
    {
      "cell_type": "code",
      "metadata": {
        "id": "tvr3gH3Tnh2I"
      },
      "source": [
        "import pickle\n",
        "with open('PokeAI.pickle', mode='wb') as fp:\n",
        "  pickle.dump(model, fp)"
      ],
      "execution_count": null,
      "outputs": []
    },
    {
      "cell_type": "code",
      "metadata": {
        "id": "IoCE7Rx7djSj",
        "colab": {
          "base_uri": "https://localhost:8080/",
          "height": 190
        },
        "outputId": "d534bf02-9ea8-413b-df05-151cdb9a45e7"
      },
      "source": [
        "!pip install -U coremltools"
      ],
      "execution_count": null,
      "outputs": [
        {
          "output_type": "stream",
          "text": [
            "Collecting coremltools\n",
            "\u001b[?25l  Downloading https://files.pythonhosted.org/packages/77/19/611916d1ef326d38857d93af5ba184f6ad7491642e0fa4f9082e7d82f034/coremltools-3.3-cp36-none-manylinux1_x86_64.whl (3.4MB)\n",
            "\u001b[K     |████████████████████████████████| 3.4MB 2.1MB/s \n",
            "\u001b[?25hRequirement already satisfied, skipping upgrade: numpy>=1.14.5 in /usr/local/lib/python3.6/dist-packages (from coremltools) (1.17.5)\n",
            "Requirement already satisfied, skipping upgrade: six>=1.10.0 in /usr/local/lib/python3.6/dist-packages (from coremltools) (1.12.0)\n",
            "Requirement already satisfied, skipping upgrade: protobuf>=3.1.0 in /usr/local/lib/python3.6/dist-packages (from coremltools) (3.10.0)\n",
            "Requirement already satisfied, skipping upgrade: setuptools in /usr/local/lib/python3.6/dist-packages (from protobuf>=3.1.0->coremltools) (45.1.0)\n",
            "Installing collected packages: coremltools\n",
            "Successfully installed coremltools-3.3\n"
          ],
          "name": "stdout"
        }
      ]
    },
    {
      "cell_type": "code",
      "metadata": {
        "id": "X6ETik89ejlS",
        "colab": {
          "base_uri": "https://localhost:8080/",
          "height": 181
        },
        "outputId": "9340f4af-8113-4212-bed5-cfdee434950f"
      },
      "source": [
        "labels = open(\"./labels.txt\",\"rb\")\n",
        "list_row = pickle.load(f)"
      ],
      "execution_count": null,
      "outputs": [
        {
          "output_type": "error",
          "ename": "EOFError",
          "evalue": "ignored",
          "traceback": [
            "\u001b[0;31m---------------------------------------------------------------------------\u001b[0m",
            "\u001b[0;31mEOFError\u001b[0m                                  Traceback (most recent call last)",
            "\u001b[0;32m<ipython-input-56-2917678a42a4>\u001b[0m in \u001b[0;36m<module>\u001b[0;34m()\u001b[0m\n\u001b[1;32m      1\u001b[0m \u001b[0mlabels\u001b[0m \u001b[0;34m=\u001b[0m \u001b[0mopen\u001b[0m\u001b[0;34m(\u001b[0m\u001b[0;34m\"./labels.txt\"\u001b[0m\u001b[0;34m,\u001b[0m\u001b[0;34m\"rb\"\u001b[0m\u001b[0;34m)\u001b[0m\u001b[0;34m\u001b[0m\u001b[0;34m\u001b[0m\u001b[0m\n\u001b[0;32m----> 2\u001b[0;31m \u001b[0mlist_row\u001b[0m \u001b[0;34m=\u001b[0m \u001b[0mpickle\u001b[0m\u001b[0;34m.\u001b[0m\u001b[0mload\u001b[0m\u001b[0;34m(\u001b[0m\u001b[0mf\u001b[0m\u001b[0;34m)\u001b[0m\u001b[0;34m\u001b[0m\u001b[0;34m\u001b[0m\u001b[0m\n\u001b[0m",
            "\u001b[0;31mEOFError\u001b[0m: Ran out of input"
          ]
        }
      ]
    },
    {
      "cell_type": "code",
      "metadata": {
        "id": "iFMUanDkdcfw"
      },
      "source": [
        "import coremltools\n",
        "coremltools.converters.keras.convert('pokeAI_mlp_weights.h5',\n",
        "   input_names = 'image',\n",
        "   output_names = ['classLabelProbs', 'classLabel'],\n",
        "   image_input_names = 'image',\n",
        "   class_labels='labels.txt').save('pokeAI_mlp_weights.mlmodel')"
      ],
      "execution_count": null,
      "outputs": []
    },
    {
      "cell_type": "code",
      "metadata": {
        "id": "n1LgsQf5hxer"
      },
      "source": [
        "labels=[\n",
        "\"001\",\n",
        "\"002\",\n",
        "\"003\",\n",
        "\"003m1\",\n",
        "\"004\",\n",
        "\"005\",\n",
        "\"006\",\n",
        "\"006m1\",\n",
        "\"006m2\",\n",
        "\"007\",\n",
        "\"008\",\n",
        "\"009\",\n",
        "\"009m1\",\n",
        "\"010\",\n",
        "\"011\",\n",
        "\"012\",\n",
        "\"013\",\n",
        "\"014\",\n",
        "\"015\",\n",
        "\"015m1\",\n",
        "\"016\",\n",
        "\"017\",\n",
        "\"018\",\n",
        "\"018m1\",\n",
        "\"019\",\n",
        "\"019a\",\n",
        "\"020\",\n",
        "\"020a\",\n",
        "\"021\",\n",
        "\"022\",\n",
        "\"023\",\n",
        "\"024\",\n",
        "\"025\",\n",
        "\"026\",\n",
        "\"026a\",\n",
        "\"027\",\n",
        "\"027a\",\n",
        "\"028\",\n",
        "\"028a\",\n",
        "\"029\",\n",
        "\"030\",\n",
        "\"031\",\n",
        "\"032\",\n",
        "\"033\",\n",
        "\"034\",\n",
        "\"035\",\n",
        "\"036\",\n",
        "\"037\",\n",
        "\"037a\",\n",
        "\"038\"]"
      ],
      "execution_count": null,
      "outputs": []
    },
    {
      "cell_type": "code",
      "metadata": {
        "id": "n_ZmmYE9d9p_",
        "colab": {
          "base_uri": "https://localhost:8080/",
          "height": 289
        },
        "outputId": "18cf049e-4cd3-4e22-e2a2-3d7f70be877b"
      },
      "source": [
        "coreml_model = coremltools.converters.keras.convert(model, input_names='image', image_input_names='image', \n",
        "                                                    class_labels=labels) \n"
      ],
      "execution_count": null,
      "outputs": [
        {
          "output_type": "stream",
          "text": [
            "0 : conv2d_5_input, <keras.engine.input_layer.InputLayer object at 0x7f302fb2b160>\n",
            "1 : conv2d_5, <keras.layers.convolutional.Conv2D object at 0x7f302fd170f0>\n",
            "2 : activation_7, <keras.layers.core.Activation object at 0x7f302fb29c18>\n",
            "3 : conv2d_6, <keras.layers.convolutional.Conv2D object at 0x7f302fb29940>\n",
            "4 : activation_8, <keras.layers.core.Activation object at 0x7f302cc00b00>\n",
            "5 : max_pooling2d_3, <keras.layers.pooling.MaxPooling2D object at 0x7f302fd17c50>\n",
            "6 : conv2d_7, <keras.layers.convolutional.Conv2D object at 0x7f302fb2ac18>\n",
            "7 : activation_9, <keras.layers.core.Activation object at 0x7f302fb295f8>\n",
            "8 : conv2d_8, <keras.layers.convolutional.Conv2D object at 0x7f302cba4f28>\n",
            "9 : activation_10, <keras.layers.core.Activation object at 0x7f302cba4898>\n",
            "10 : max_pooling2d_4, <keras.layers.pooling.MaxPooling2D object at 0x7f302cbbc1d0>\n",
            "11 : flatten_2, <keras.layers.core.Flatten object at 0x7f302cbc36d8>\n",
            "12 : dense_3, <keras.layers.core.Dense object at 0x7f302cbc3198>\n",
            "13 : activation_11, <keras.layers.core.Activation object at 0x7f302cbc3f28>\n",
            "14 : dense_4, <keras.layers.core.Dense object at 0x7f302cbc3e48>\n",
            "15 : activation_12, <keras.layers.core.Activation object at 0x7f302cb60be0>\n"
          ],
          "name": "stdout"
        }
      ]
    },
    {
      "cell_type": "code",
      "metadata": {
        "id": "cS_Jy8oviRc9"
      },
      "source": [
        "coreml_model.save('PokeAI.mlmodel') "
      ],
      "execution_count": null,
      "outputs": []
    },
    {
      "cell_type": "code",
      "metadata": {
        "id": "YFzbCkQiia7R"
      },
      "source": [
        ""
      ],
      "execution_count": null,
      "outputs": []
    }
  ]
}